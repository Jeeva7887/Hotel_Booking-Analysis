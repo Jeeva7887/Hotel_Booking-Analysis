{
  "nbformat": 4,
  "nbformat_minor": 0,
  "metadata": {
    "colab": {
      "private_outputs": true,
      "provenance": [],
      "collapsed_sections": [
        "vncDsAP0Gaoa",
        "FJNUwmbgGyua",
        "w6K7xa23Elo4",
        "yQaldy8SH6Dl",
        "PH-0ReGfmX4f",
        "mDgbUHAGgjLW",
        "O_i_v8NEhb9l",
        "HhfV-JJviCcP",
        "Y3lxredqlCYt",
        "3RnN4peoiCZX",
        "x71ZqKXriCWQ",
        "7hBIi_osiCS2",
        "JlHwYmJAmNHm",
        "35m5QtbWiB9F",
        "PoPl-ycgm1ru",
        "H0kj-8xxnORC",
        "nA9Y7ga8ng1Z",
        "PBTbrJXOngz2",
        "u3PMJOP6ngxN",
        "dauF4eBmngu3",
        "bKJF3rekwFvQ",
        "MSa1f5Uengrz",
        "GF8Ens_Soomf",
        "0wOQAZs5pc--",
        "K5QZ13OEpz2H",
        "lQ7QKXXCp7Bj",
        "448CDAPjqfQr",
        "KSlN3yHqYklG",
        "t6dVpIINYklI",
        "ijmpgYnKYklI",
        "-JiQyfWJYklI",
        "EM7whBJCYoAo",
        "fge-S5ZAYoAp",
        "85gYPyotYoAp",
        "RoGjAbkUYoAp",
        "4Of9eVA-YrdM",
        "iky9q4vBYrdO",
        "F6T5p64dYrdO",
        "y-Ehk30pYrdP",
        "bamQiAODYuh1",
        "QHF8YVU7Yuh3",
        "GwzvFGzlYuh3",
        "qYpmQ266Yuh3",
        "OH-pJp9IphqM",
        "bbFf2-_FphqN",
        "_ouA3fa0phqN",
        "Seke61FWphqN",
        "PIIx-8_IphqN",
        "t27r6nlMphqO",
        "r2jJGEOYphqO",
        "b0JNsNcRphqO",
        "BZR9WyysphqO",
        "jj7wYXLtphqO",
        "eZrbJ2SmphqO",
        "rFu4xreNphqO",
        "YJ55k-q6phqO",
        "gCFgpxoyphqP",
        "OVtJsKN_phqQ",
        "lssrdh5qphqQ",
        "U2RJ9gkRphqQ",
        "1M8mcRywphqQ",
        "tgIPom80phqQ",
        "JMzcOPDDphqR",
        "x-EpHcCOp1ci",
        "X_VqEhTip1ck",
        "8zGJKyg5p1ck",
        "PVzmfK_Ep1ck",
        "n3dbpmDWp1ck",
        "ylSl6qgtp1ck",
        "ZWILFDl5p1ck",
        "M7G43BXep1ck",
        "Ag9LCva-p1cl",
        "E6MkPsBcp1cl",
        "2cELzS2fp1cl",
        "3MPXvC8up1cl",
        "NC_X3p0fY2L0",
        "UV0SzAkaZNRQ",
        "YPEH6qLeZNRQ",
        "q29F0dvdveiT",
        "EXh0U9oCveiU",
        "22aHeOlLveiV",
        "JcMwzZxoAimU",
        "8G2x9gOozGDZ",
        "gCX9965dhzqZ",
        "gIfDvo9L0UH2"
      ],
      "include_colab_link": true
    },
    "kernelspec": {
      "name": "python3",
      "display_name": "Python 3"
    },
    "language_info": {
      "name": "python"
    }
  },
  "cells": [
    {
      "cell_type": "markdown",
      "metadata": {
        "id": "view-in-github",
        "colab_type": "text"
      },
      "source": [
        "<a href=\"https://colab.research.google.com/github/Jeeva7887/Hotel_Booking-Analysis/blob/main/Copy_of_Sample_EDA_Submission_Template.ipynb\" target=\"_parent\"><img src=\"https://colab.research.google.com/assets/colab-badge.svg\" alt=\"Open In Colab\"/></a>"
      ]
    },
    {
      "cell_type": "markdown",
      "source": [
        "# **Project Name**    -  HOTEL BOOKING ANALYSIS\n",
        "NAME - Jeeva Bharathi.R\n",
        "\n"
      ],
      "metadata": {
        "id": "vncDsAP0Gaoa"
      }
    },
    {
      "cell_type": "markdown",
      "source": [
        "##### **Project Type**    - EDA/Regression/Classification/Unsupervised\n",
        "##### **Contribution**    - Individual/Team"
      ],
      "metadata": {
        "id": "beRrZCGUAJYm"
      }
    },
    {
      "cell_type": "markdown",
      "source": [
        "# **Project Summary -**"
      ],
      "metadata": {
        "id": "FJNUwmbgGyua"
      }
    },
    {
      "cell_type": "markdown",
      "source": [
        "Hotel industry is a very volatile industry and the booking depend on variety of factors such as type of hotels, seasonality days of week and many more\n",
        "\n",
        "The EDA project on hotel booking analysis investigated, cancellation, and underlying pattern\n",
        "\n",
        "The project covers booking information for a hilton hotel and hyatt hotel including information such as when the including information such as when booking was made, length of stay the number of adults, children. The project went through the basic idea of the EDA and visualization process.\n",
        "\n",
        "We will be using the data available to analysis the factor affecting the hotel booking. These factor can be used for reporting the trends and predict the furture bookings.\n",
        "\n",
        "The EDA is divided into following 3 analysis univariate analysis : univariate analysis is the simplest of the three analyses where the data, you are analysis is only one variable.\n",
        "\n",
        "Bivariate analysis : bivariate analysis is where you are comparing two variable to study their relationships.\n",
        "\n",
        "Multivariate analysis : Multivariate analysis is similar to bivariate analysis but you are comparing more than two variables.\n",
        "\n",
        "The project concludes that by analysis hotel booking data and analysis hotel booking data and understanding cancellation pattern, hotels, can take steps to reduce cancellations and increase revenue.\n",
        "\n",
        "Example : hotels can offer discount or promotions to customers who book early or who book for longer stays hotel can also offer incentives such as free parking or free breakfast to customers who book directly with them instead of through third party websites.\n",
        "\n"
      ],
      "metadata": {
        "id": "F6v_1wHtG2nS"
      }
    },
    {
      "cell_type": "markdown",
      "source": [
        "# **GitHub Link -**"
      ],
      "metadata": {
        "id": "w6K7xa23Elo4"
      }
    },
    {
      "cell_type": "markdown",
      "source": [
        "Provide your GitHub Link here."
      ],
      "metadata": {
        "id": "h1o69JH3Eqqn"
      }
    },
    {
      "cell_type": "markdown",
      "source": [
        "# **Problem Statement**\n"
      ],
      "metadata": {
        "id": "yQaldy8SH6Dl"
      }
    },
    {
      "cell_type": "markdown",
      "source": [
        "**Write Problem Statement Here.**"
      ],
      "metadata": {
        "id": "DpeJGUA3kjGy"
      }
    },
    {
      "cell_type": "markdown",
      "source": [
        "#### **Define Your Business Objective?**"
      ],
      "metadata": {
        "id": "PH-0ReGfmX4f"
      }
    },
    {
      "cell_type": "markdown",
      "source": [
        "The project aims to gain interesting insight into customers behaviour when booking a hotel.\n",
        "\n",
        "The demand for different segment of customer may requires different model for different segment . These insights can guide hotels to adjust their customer strategies and make preparation for unknown."
      ],
      "metadata": {
        "id": "PhDvGCAqmjP1"
      }
    },
    {
      "cell_type": "markdown",
      "source": [
        "# **General Guidelines** : -  "
      ],
      "metadata": {
        "id": "mDgbUHAGgjLW"
      }
    },
    {
      "cell_type": "markdown",
      "source": [
        "1.   Well-structured, formatted, and commented code is required.\n",
        "2.   Exception Handling, Production Grade Code & Deployment Ready Code will be a plus. Those students will be awarded some additional credits.\n",
        "     \n",
        "     The additional credits will have advantages over other students during Star Student selection.\n",
        "       \n",
        "             [ Note: - Deployment Ready Code is defined as, the whole .ipynb notebook should be executable in one go\n",
        "                       without a single error logged. ]\n",
        "\n",
        "3.   Each and every logic should have proper comments.\n",
        "4. You may add as many number of charts you want. Make Sure for each and every chart the following format should be answered.\n",
        "        \n",
        "\n",
        "```\n",
        "# Chart visualization code\n",
        "```\n",
        "            \n",
        "\n",
        "*   Why did you pick the specific chart?\n",
        "*   What is/are the insight(s) found from the chart?\n",
        "* Will the gained insights help creating a positive business impact?\n",
        "Are there any insights that lead to negative growth? Justify with specific reason.\n",
        "\n",
        "5. You have to create at least 20 logical & meaningful charts having important insights.\n",
        "\n",
        "\n",
        "[ Hints : - Do the Vizualization in  a structured way while following \"UBM\" Rule.\n",
        "\n",
        "U - Univariate Analysis,\n",
        "\n",
        "B - Bivariate Analysis (Numerical - Categorical, Numerical - Numerical, Categorical - Categorical)\n",
        "\n",
        "M - Multivariate Analysis\n",
        " ]\n",
        "\n",
        "\n",
        "\n"
      ],
      "metadata": {
        "id": "ZrxVaUj-hHfC"
      }
    },
    {
      "cell_type": "markdown",
      "source": [
        "# ***Let's Begin !***"
      ],
      "metadata": {
        "id": "O_i_v8NEhb9l"
      }
    },
    {
      "cell_type": "markdown",
      "source": [
        "## ***1. Know Your Data***"
      ],
      "metadata": {
        "id": "HhfV-JJviCcP"
      }
    },
    {
      "cell_type": "markdown",
      "source": [
        "### Import Libraries"
      ],
      "metadata": {
        "id": "Y3lxredqlCYt"
      }
    },
    {
      "cell_type": "code",
      "source": [
        "# Import Libraries\n",
        "\n",
        "import pandas as pd\n",
        "import numpy as np\n",
        "#for visualisation\n",
        "import seaborn as sns\n",
        "import matplotlib.pyplot as plt\n",
        "%matplotlib inline\n",
        "import plotly.express as px\n"
      ],
      "metadata": {
        "id": "M8Vqi-pPk-HR"
      },
      "execution_count": null,
      "outputs": []
    },
    {
      "cell_type": "markdown",
      "source": [
        "### Dataset Loading"
      ],
      "metadata": {
        "id": "3RnN4peoiCZX"
      }
    },
    {
      "cell_type": "code",
      "source": [
        "# Load Dataset\n",
        "from google.colab import drive\n",
        "drive.mount('/content/drive')"
      ],
      "metadata": {
        "id": "4CkvbW_SlZ_R"
      },
      "execution_count": null,
      "outputs": []
    },
    {
      "cell_type": "markdown",
      "source": [
        "### Dataset First View"
      ],
      "metadata": {
        "id": "x71ZqKXriCWQ"
      }
    },
    {
      "cell_type": "code",
      "source": [
        "# Dataset First Look\n",
        "import pandas as pd\n",
        "pf = pd.read_csv('https://raw.githubusercontent.com/Jeeva7887/Hotel_Booking-Analysis/main/Hotel%20Bookings%20(1).csv')"
      ],
      "metadata": {
        "id": "LWNFOSvLl09H"
      },
      "execution_count": null,
      "outputs": []
    },
    {
      "cell_type": "markdown",
      "source": [
        "### Dataset Rows & Columns count"
      ],
      "metadata": {
        "id": "7hBIi_osiCS2"
      }
    },
    {
      "cell_type": "code",
      "source": [
        "# Dataset Rows & Columns count\n",
        "pf"
      ],
      "metadata": {
        "id": "Kllu7SJgmLij"
      },
      "execution_count": null,
      "outputs": []
    },
    {
      "cell_type": "markdown",
      "source": [
        "### Dataset Information"
      ],
      "metadata": {
        "id": "JlHwYmJAmNHm"
      }
    },
    {
      "cell_type": "code",
      "source": [
        "# Dataset Info\n",
        "# looking first 5 rows of the dataset\n",
        "pf.head(5)"
      ],
      "metadata": {
        "id": "e9hRXRi6meOf"
      },
      "execution_count": null,
      "outputs": []
    },
    {
      "cell_type": "code",
      "source": [
        "# looking first 5 rows of the dataset\n",
        "pf.head(100)"
      ],
      "metadata": {
        "id": "7y75ZsV3uUkG"
      },
      "execution_count": null,
      "outputs": []
    },
    {
      "cell_type": "markdown",
      "source": [
        "#### Duplicate Values"
      ],
      "metadata": {
        "id": "35m5QtbWiB9F"
      }
    },
    {
      "cell_type": "code",
      "source": [
        "# Dataset Duplicate Value Count"
      ],
      "metadata": {
        "id": "1sLdpKYkmox0"
      },
      "execution_count": null,
      "outputs": []
    },
    {
      "cell_type": "code",
      "source": [
        "pf.tail(100)"
      ],
      "metadata": {
        "id": "ZKr6McNoucVg"
      },
      "execution_count": null,
      "outputs": []
    },
    {
      "cell_type": "code",
      "source": [
        "pf.info()"
      ],
      "metadata": {
        "id": "w-JhMByqu1f7"
      },
      "execution_count": null,
      "outputs": []
    },
    {
      "cell_type": "markdown",
      "source": [
        "#### Missing Values/Null Values"
      ],
      "metadata": {
        "id": "PoPl-ycgm1ru"
      }
    },
    {
      "cell_type": "code",
      "source": [
        "# Missing Values/Null Values Count"
      ],
      "metadata": {
        "id": "GgHWkxvamxVg"
      },
      "execution_count": null,
      "outputs": []
    },
    {
      "cell_type": "code",
      "source": [
        "pf.duplicated().sum()"
      ],
      "metadata": {
        "id": "Z4mpM_yUvJ7I"
      },
      "execution_count": null,
      "outputs": []
    },
    {
      "cell_type": "code",
      "source": [
        "pf.shape"
      ],
      "metadata": {
        "id": "X4w6-FcPvZX8"
      },
      "execution_count": null,
      "outputs": []
    },
    {
      "cell_type": "code",
      "source": [
        "# Visualizing the missing values\n",
        "import seaborn as sns\n",
        "import matplotlib.pyplot as plt\n",
        "plt.figure(figsize=(20,8))\n",
        "sns.heatmap(pf.isna().transpose(),\n",
        "            cmap=\"YlGnBu\",\n",
        "            cbar_kws={'label':'missing Data'})\n",
        "plt.title('Missing Values',fontsize =18)\n",
        "plt.show()"
      ],
      "metadata": {
        "id": "3q5wnI3om9sJ"
      },
      "execution_count": null,
      "outputs": []
    },
    {
      "cell_type": "markdown",
      "source": [
        "### What did you know about your dataset?"
      ],
      "metadata": {
        "id": "H0kj-8xxnORC"
      }
    },
    {
      "cell_type": "markdown",
      "source": [
        "Answer Here"
      ],
      "metadata": {
        "id": "gfoNAAC-nUe_"
      }
    },
    {
      "cell_type": "markdown",
      "metadata": {
        "id": "n62_wNJ12rAD"
      },
      "source": [
        "We can see that there are total four columns with missing/ null values: company, agent, country, children\n",
        "\n",
        "in children column,I will rplace null values with 0 assuming that customers did not have any children\n",
        "\n",
        "Column country has null values. I wll replace null values inthis column with others assuming customer's country was not mentioned while booking.\n",
        "\n",
        "In company and agent column it might be a case when customers did not book hotel through them so these columns might have null values in it. as there 2 columns have numeric data in it . i will replace them with 0."
      ]
    },
    {
      "cell_type": "markdown",
      "source": [
        "## ***2. Understanding Your Variables***"
      ],
      "metadata": {
        "id": "nA9Y7ga8ng1Z"
      }
    },
    {
      "cell_type": "code",
      "source": [
        "# Dataset Columns\n",
        "pf.columns"
      ],
      "metadata": {
        "id": "j7xfkqrt5Ag5"
      },
      "execution_count": null,
      "outputs": []
    },
    {
      "cell_type": "code",
      "source": [
        "# Dataset Describe\n",
        "pf.describe()"
      ],
      "metadata": {
        "id": "DnOaZdaE5Q5t"
      },
      "execution_count": null,
      "outputs": []
    },
    {
      "cell_type": "markdown",
      "source": [
        "### Variables Description"
      ],
      "metadata": {
        "id": "PBTbrJXOngz2"
      }
    },
    {
      "cell_type": "markdown",
      "source": [
        "Answer Here"
      ],
      "metadata": {
        "id": "aJV4KIxSnxay"
      }
    },
    {
      "cell_type": "markdown",
      "metadata": {
        "id": "CVozYkpaF5dN"
      },
      "source": [
        "Hotel:(hayatt hotel or city hotel)\n",
        "\n",
        "is_Canceled: value indicating if the booking was canceled(1)or not(0)\n",
        "\n",
        "lead_time: Number of days that elapsed between the enteruing date of the booking into the PMS and the arrival date\n",
        "\n",
        "arrival_date_year: year of arrival date\n",
        "\n",
        "arrival_date_month: month of the arrival date\n",
        "\n",
        "arrival_date_week_number:week Number of year for arrival date\n",
        "\n",
        "arrival_date_day_of_month:Day pof arrival date\n",
        "\n",
        "stays_in_weekend_nights:: Number of weekend nights(saturday or sunday) the guest stayed or booked to stay at the hotel\n",
        "\n",
        "stays_in_week_nights: Number of week nights (monday to friday) the guest stayed or booked to stay at the hotel\n",
        "\n",
        "adults: number of adults\n",
        "\n",
        "children: Number of children\n",
        "\n",
        "Babies:Number of babies\n",
        "\n",
        "meal: Type of meal booked Categories are presented in standard meal packages\n",
        "\n",
        "distribution_channel: Booking distribution channel. The term \"TA\"means \"Travel agent\" and \"TO\" means \"Tour Operators\"\n",
        "\n",
        "is_repeated_guest: Value indicating if then booking name was from a repeated guest(1) or not(0)\n",
        "\n",
        "pervious_cancellation: number of pervious booking that was cancelled by the customer prior to the current booking.\n",
        "\n",
        "pervius_booking_not_canceled: Number of pervious booking that were cancelled by the customer prior to the current booking\n",
        "\n",
        "reservrd_room_type: code of room type reserved code is presented instead of room assigned to the booking.\n",
        "\n",
        "assigned_room_type: code for type of room assigned to the booking.\n",
        "\n",
        "deposit_type: indication on if the customer made a deposit to gurarantee the booking.\n",
        "\n",
        "agent: id of the travel agency that made the booking.\n",
        "\n",
        "company: id of the company that made the booking or responsible for paying the booking.\n",
        "\n",
        "reservation_status: Reservation last status assuming one of three categories.\n",
        "\n",
        "Canceled : booking was canceledd by the customer Check-out- customerhas checked in but already departed no-show- customer did not check-in and did inform the hotel of the reason why\n",
        "\n",
        "reservation_status_date: mdate at which the last status was set"
      ]
    },
    {
      "cell_type": "markdown",
      "source": [
        "### Check Unique Values for each variable."
      ],
      "metadata": {
        "id": "u3PMJOP6ngxN"
      }
    },
    {
      "cell_type": "code",
      "source": [
        "# Check Unique Values for each variable.\n",
        "import pandas as pd\n",
        "import seaborn as sns\n",
        "pd.Series({col:pf[col].unique() for col in pf})"
      ],
      "metadata": {
        "id": "zms12Yq5n-jE"
      },
      "execution_count": null,
      "outputs": []
    },
    {
      "cell_type": "markdown",
      "source": [
        "## 3. ***Data Wrangling***"
      ],
      "metadata": {
        "id": "dauF4eBmngu3"
      }
    },
    {
      "cell_type": "markdown",
      "source": [
        "### Data Wrangling Code"
      ],
      "metadata": {
        "id": "bKJF3rekwFvQ"
      }
    },
    {
      "cell_type": "code",
      "source": [
        "# Write your code to make your dataset analysis ready.\n",
        "pf1 = pf.copy()\n",
        "pf1.columns\n"
      ],
      "metadata": {
        "id": "wk-9a2fpoLcV"
      },
      "execution_count": null,
      "outputs": []
    },
    {
      "cell_type": "code",
      "source": [
        "# replacing null values in children column with 0 assuming that family had 0 children\n",
        "# replacing null values in company and agent column with 0 assuming those rooms were booked without company/agent\n",
        "pf1['children'].fillna(0, inplace = True)\n",
        "pf1['company'].fillna(0,inplace = True)\n",
        "pf1['agent'].fillna(0,inplace = True)\n",
        "# replacing null values in country column as 'others'\n",
        "pf1['country'].fillna('others',inplace = True)"
      ],
      "metadata": {
        "id": "2Uf9mD2rZ_va"
      },
      "execution_count": null,
      "outputs": []
    },
    {
      "cell_type": "code",
      "source": [
        "# checking fo null values after replacing them\n",
        "pf1.isnull().sum()"
      ],
      "metadata": {
        "id": "Evq1bXaWaIn_"
      },
      "execution_count": null,
      "outputs": []
    },
    {
      "cell_type": "code",
      "source": [
        "#drooping the 'company' column as it contain a lot of null values in coparison to other columns\n",
        "pf1.drop(['company'], axis =1, inplace = True)"
      ],
      "metadata": {
        "id": "68eCPAgraOGB"
      },
      "execution_count": null,
      "outputs": []
    },
    {
      "cell_type": "code",
      "source": [
        "#drooping rowws where no adults ,, children and babies are available because no booking were made that day\n",
        "no_guest = pf1[pf1['adults']+pf1['babies']+pf1['children']==0]\n",
        "pf.drop(no_guest.index, inplace = True)"
      ],
      "metadata": {
        "id": "EKdhS0EYaYHI"
      },
      "execution_count": null,
      "outputs": []
    },
    {
      "cell_type": "code",
      "source": [
        "# adding some new column to make our data analysis ready\n",
        "pf1['total_people'] = pf1['adults']+pf1['babies']+pf1['children']   # creating total people column by adding all the people in that\n",
        "pf1['total_stay'] = pf1['stays_in_weekend_nights']+ pf1['stays_in_week_nights']   # creating a column to check total stay by people in that booking"
      ],
      "metadata": {
        "id": "Yn7H3bs1acYa"
      },
      "execution_count": null,
      "outputs": []
    },
    {
      "cell_type": "code",
      "source": [
        "pf1.head()"
      ],
      "metadata": {
        "id": "tIzKRMTtagdZ"
      },
      "execution_count": null,
      "outputs": []
    },
    {
      "cell_type": "code",
      "source": [
        "pf1.tail()"
      ],
      "metadata": {
        "id": "1M_1utWAamDa"
      },
      "execution_count": null,
      "outputs": []
    },
    {
      "cell_type": "code",
      "source": [
        "# checking th efinal shape of the dataset\n",
        "print(f'final shape of the datasetis{pf1.shape}')"
      ],
      "metadata": {
        "id": "vsGRaoSOarxq"
      },
      "execution_count": null,
      "outputs": []
    },
    {
      "cell_type": "code",
      "source": [
        "# checking the unique values which is to be analysed\n",
        "import pandas as pd\n",
        "import seaborn as sns\n",
        "pd.Series({col:pf1[col].unique()for col in pf1})"
      ],
      "metadata": {
        "id": "aI1PwBjwaxJ5"
      },
      "execution_count": null,
      "outputs": []
    },
    {
      "cell_type": "markdown",
      "source": [
        "we can see that we have dealt with all the null values and added some values and added some new columns and now our dataset is ready to analysed"
      ],
      "metadata": {
        "id": "yRnbWRI9a57Q"
      }
    },
    {
      "cell_type": "markdown",
      "source": [
        "### What all manipulations have you done and insights you found?"
      ],
      "metadata": {
        "id": "MSa1f5Uengrz"
      }
    },
    {
      "cell_type": "markdown",
      "source": [
        "The after doing all manipulation i checked new manipulated dataset to check if this is ready to be analysed.\n",
        "\n",
        "after manipulating the dataset these were the insights i found:\n",
        "\n",
        "There are two types of hotel which gusts could book so i can which type of hotel was booked most.\n",
        "\n",
        "Guests can choose different foods form the menu.\n",
        "\n",
        "3.There are different types of guests and they come form different countries.\n",
        "\n",
        "Guests can book hotel directly or through different channels that are available.\n",
        "\n",
        "Guests can cancel their booking and there are repeate guests also.\n",
        "\n",
        "6.Guestscan choose rooms of their liking while booking.\n",
        "\n",
        "There is column available in the dataset named 'adr' which could be used to analysis hotel's performances on the basis of revenue.\n"
      ],
      "metadata": {
        "id": "ti-6hTeabbgT"
      }
    },
    {
      "cell_type": "markdown",
      "source": [
        "## ***4. Data Vizualization, Storytelling & Experimenting with charts : Understand the relationships between variables***"
      ],
      "metadata": {
        "id": "GF8Ens_Soomf"
      }
    },
    {
      "cell_type": "markdown",
      "source": [
        "#### Chart - 1"
      ],
      "metadata": {
        "id": "0wOQAZs5pc--"
      }
    },
    {
      "cell_type": "markdown",
      "source": [
        "\n",
        " Which type of hotel is most preffered by the guests?"
      ],
      "metadata": {
        "id": "XufhNsYkbpXs"
      }
    },
    {
      "cell_type": "code",
      "source": [
        "# Chart - 1 visualization code\n",
        "# sorting unique hotel names in a variable\n",
        "hotel_name = pf1['hotel'].unique()\n",
        "\n",
        "unique_booking = pf1.hotel.value_counts()\n",
        "fig1 = px.pie(names = hotel_name, values = unique_booking, hole = 0.5, color = hotel_name,\n",
        "                   color_discrete_map={\n",
        "                      'City hotel': 'teal','Hilton hotel':'nude'})\n",
        "\n",
        "fig1.update_traces(textinfo = 'percent + value')\n",
        "fig1.update_layout(title_text= 'Hotel Booking Percentage', title_x = 0.5)\n",
        "\n",
        "fig1.update_layout(legend = dict(\n",
        "    orientation = 'h',\n",
        "    yanchor = 'bottom',\n",
        "    xanchor = 'center',\n",
        "    x = 0.5\n",
        "))\n",
        "fig1.show()"
      ],
      "metadata": {
        "id": "7v_ESjsspbW7"
      },
      "execution_count": null,
      "outputs": []
    },
    {
      "cell_type": "markdown",
      "source": [
        "##### 1. Why did you pick the specific chart?"
      ],
      "metadata": {
        "id": "K5QZ13OEpz2H"
      }
    },
    {
      "cell_type": "markdown",
      "source": [
        "i used do not chart here because it is used to show the proportions of categorical data, with the size of each piece representing the proportion of each category\n"
      ],
      "metadata": {
        "id": "wG80bnDzcEOL"
      }
    },
    {
      "cell_type": "markdown",
      "source": [
        "##### 2. What is/are the insight(s) found from the chart?"
      ],
      "metadata": {
        "id": "lQ7QKXXCp7Bj"
      }
    },
    {
      "cell_type": "markdown",
      "source": [
        "I found out that guests prefer Hyatt hotel and Homewood Suites by hilton hotel\n"
      ],
      "metadata": {
        "id": "z8KOgswGcU6f"
      }
    },
    {
      "cell_type": "markdown",
      "source": [
        "##### 3. Will the gained insights help creating a positive business impact?\n",
        "Are there any insights that lead to negative growth? Justify with specific reason."
      ],
      "metadata": {
        "id": "448CDAPjqfQr"
      }
    },
    {
      "cell_type": "markdown",
      "source": [
        "This insight is useful for the stackeholder to check each hotel is performing best and they can invest more capital in that. there is no such negative growth but stakeholder can booking and increase the overall revenue\n"
      ],
      "metadata": {
        "id": "XOs6bUEEcdft"
      }
    },
    {
      "cell_type": "markdown",
      "source": [
        "#### Chart - 2 What is percentage of hotel booking cancellation?\n"
      ],
      "metadata": {
        "id": "KSlN3yHqYklG"
      }
    },
    {
      "cell_type": "code",
      "source": [
        "# Chart - 2 visualization code\n",
        "# extracting and storing unique values of hotel cancellation\n",
        "import matplotlib.pyplot as plt\n",
        "\n",
        "# Assuming pf is your DataFrame containing hotel booking data\n",
        "# And 'is_canceled' is a column indicating whether the booking was canceled or not\n",
        "\n",
        "# Calculate the counts of canceled and non-canceled bookings\n",
        "cancelled_hotel = pf['is_canceled'].value_counts()\n",
        "\n",
        "# Define explode array to emphasize one of the sections\n",
        "ex = (0.1, 0)\n",
        "\n",
        "# Creating a pie chart\n",
        "plt.pie(cancelled_hotel, explode=ex, labels=['Canceled', 'Not Canceled'], autopct='%1.2f%%', startangle=40)\n",
        "\n",
        "plt.title('Percentage of Hotel Cancellation and Non-Cancellation chart')\n",
        "\n",
        "plt.axis('equal')\n",
        "plt.show()"
      ],
      "metadata": {
        "id": "R4YgtaqtYklH"
      },
      "execution_count": null,
      "outputs": []
    },
    {
      "cell_type": "markdown",
      "source": [
        "##### 1. Why did you pick the specific chart?"
      ],
      "metadata": {
        "id": "t6dVpIINYklI"
      }
    },
    {
      "cell_type": "markdown",
      "source": [
        "I had to show a part to a whole relationship and percentage of both the values and here pie chart was a good option to show segmented values..\n"
      ],
      "metadata": {
        "id": "xMcjf1Tnc2-o"
      }
    },
    {
      "cell_type": "markdown",
      "source": [
        "##### 2. What is/are the insight(s) found from the chart?"
      ],
      "metadata": {
        "id": "ijmpgYnKYklI"
      }
    },
    {
      "cell_type": "markdown",
      "source": [
        "\n",
        "Here we can see that around 76.47% bookings are not canceled by guests but around 23.53% bookings are canceled by guests"
      ],
      "metadata": {
        "id": "DRJpT6PDdGCf"
      }
    },
    {
      "cell_type": "markdown",
      "source": [
        "##### 3. Will the gained insights help creating a positive business impact?\n",
        "Are there any insights that lead to negative growth? Justify with specific reason."
      ],
      "metadata": {
        "id": "-JiQyfWJYklI"
      }
    },
    {
      "cell_type": "markdown",
      "source": [
        "This insight will help stakeholders in comparing the cancellation and non cancellation of bookings with the help of this insight stakeholders can offer rescheduling the bookings instead of cancellation and set a flexible cancellation policy to reduce booking cancellation."
      ],
      "metadata": {
        "id": "IfCIa5eCdMg2"
      }
    },
    {
      "cell_type": "markdown",
      "source": [
        "#### Chart - 3"
      ],
      "metadata": {
        "id": "EM7whBJCYoAo"
      }
    },
    {
      "cell_type": "markdown",
      "source": [
        " Which type of meal is most preffered by guests?"
      ],
      "metadata": {
        "id": "DoR_tAPBdWcX"
      }
    },
    {
      "cell_type": "code",
      "source": [
        "## Chart - 3 visualization code\n",
        "import pandas as pd\n",
        "import seaborn as sns\n",
        "import matplotlib.pyplot as plt\n",
        "\n",
        "# Assuming you have a DataFrame named pf1\n",
        "meal_count = pf1['meal'].value_counts()\n",
        "meal_name = pf1['meal'].unique()\n",
        "meal_df = pd.DataFrame(zip(meal_name, meal_count), columns=['meal name', 'meal count'])\n",
        "\n",
        "plt.figure(figsize=(8, 4))\n",
        "g = sns.barplot(data=meal_df, x='meal name', y='meal count')\n",
        "g.set_xticklabels(meal_df['meal name'])\n",
        "plt.title('Most Preferred Meal Type chart', fontsize=10)\n",
        "plt.show()"
      ],
      "metadata": {
        "id": "t6GMdE67YoAp"
      },
      "execution_count": null,
      "outputs": []
    },
    {
      "cell_type": "markdown",
      "source": [
        "Meal type variable description:\n",
        "\n",
        "BB - (Bed and Breakfast)\n",
        "\n",
        "HB - (Half Board)\n",
        "\n",
        "FB - (Full Board)\n",
        "\n",
        "SC - (Self Catering)"
      ],
      "metadata": {
        "id": "r7nV2zBFdntH"
      }
    },
    {
      "cell_type": "markdown",
      "source": [
        "##### 1. Why did you pick the specific chart?"
      ],
      "metadata": {
        "id": "fge-S5ZAYoAp"
      }
    },
    {
      "cell_type": "markdown",
      "source": [
        "There were 4 values to compare and bar graphs are used to compare things between different groups that is why I used this chart."
      ],
      "metadata": {
        "id": "edGtzDDFds85"
      }
    },
    {
      "cell_type": "markdown",
      "source": [
        "##### 2. What is/are the insight(s) found from the chart?"
      ],
      "metadata": {
        "id": "85gYPyotYoAp"
      }
    },
    {
      "cell_type": "markdown",
      "source": [
        "After visualizing the above chart we can see that BB is most preffered meal type by guests."
      ],
      "metadata": {
        "id": "mMy-nqIJeANn"
      }
    },
    {
      "cell_type": "markdown",
      "source": [
        "##### 3. Will the gained insights help creating a positive business impact?\n",
        "Are there any insights that lead to negative growth? Justify with specific reason."
      ],
      "metadata": {
        "id": "RoGjAbkUYoAp"
      }
    },
    {
      "cell_type": "markdown",
      "source": [
        "Yes , from the gained insight above now stakeholders know that BB is most preffered meal type so they can arrange raw material for this meal in advance and deliver the meal without any delay."
      ],
      "metadata": {
        "id": "a-8st2QneGAx"
      }
    },
    {
      "cell_type": "markdown",
      "source": [
        "#### Chart - 4"
      ],
      "metadata": {
        "id": "4Of9eVA-YrdM"
      }
    },
    {
      "cell_type": "markdown",
      "source": [
        " Which year has most booking?"
      ],
      "metadata": {
        "id": "F-p6z-dEePN5"
      }
    },
    {
      "cell_type": "code",
      "source": [
        "# Chart - 4 visualization code\n",
        "import seaborn as sns\n",
        "plt.figure(figsize =(12,6))\n",
        "sns.countplot(x = pf['arrival_date_year'],hue = pf['hotel'])\n",
        "plt.title(\"Number of booking across year\",fontsize = 20)\n",
        "plt.show()"
      ],
      "metadata": {
        "id": "irlUoxc8YrdO"
      },
      "execution_count": null,
      "outputs": []
    },
    {
      "cell_type": "markdown",
      "source": [
        "##### 1. Why did you pick the specific chart?"
      ],
      "metadata": {
        "id": "iky9q4vBYrdO"
      }
    },
    {
      "cell_type": "markdown",
      "source": [
        "\n",
        "Bar graphs are used to compare things between different groups used in chart."
      ],
      "metadata": {
        "id": "aGkI2z-cecsp"
      }
    },
    {
      "cell_type": "markdown",
      "source": [
        "##### 2. What is/are the insight(s) found from the chart?"
      ],
      "metadata": {
        "id": "F6T5p64dYrdO"
      }
    },
    {
      "cell_type": "markdown",
      "source": [
        "From above insight I found out that was booked most times in year 2020 and 2021"
      ],
      "metadata": {
        "id": "FxXRn0GzejTq"
      }
    },
    {
      "cell_type": "markdown",
      "source": [
        "##### 3. Will the gained insights help creating a positive business impact?\n",
        "Are there any insights that lead to negative growth? Justify with specific reason."
      ],
      "metadata": {
        "id": "y-Ehk30pYrdP"
      }
    },
    {
      "cell_type": "markdown",
      "source": [
        "Above insight shows that number of booking was declined after year 2020,2021 . stakeholders can now what went wrong after 2020,2021 and fix that problem to increase that number of bookings. One way to do this is ask for feedbacks from guests and have a meeting with old employees who else were serving into the year 2020,2021."
      ],
      "metadata": {
        "id": "ej6MVpdwesOD"
      }
    },
    {
      "cell_type": "markdown",
      "source": [
        "#### Chart - 5"
      ],
      "metadata": {
        "id": "bamQiAODYuh1"
      }
    },
    {
      "cell_type": "markdown",
      "source": [
        "Which month has most booking in each hotel type?"
      ],
      "metadata": {
        "id": "Fp6oAgPMe1EZ"
      }
    },
    {
      "cell_type": "code",
      "source": [
        "# Chart - 5 visualization code\n",
        "\n",
        "import seaborn as sns\n",
        "plt.figure(figsize = (20,8))\n",
        "sns.countplot(x=pf['arrival_date_month'], hue= pf['hotel'])\n",
        "plt.title(\"number of booking across months\", fontsize = 20)\n",
        "plt.show()"
      ],
      "metadata": {
        "id": "TIJwrbroYuh3"
      },
      "execution_count": null,
      "outputs": []
    },
    {
      "cell_type": "markdown",
      "source": [
        "##### 1. Why did you pick the specific chart?"
      ],
      "metadata": {
        "id": "QHF8YVU7Yuh3"
      }
    },
    {
      "cell_type": "markdown",
      "source": [
        "I had to compare values across the months and for that bar chart was one of the best choice."
      ],
      "metadata": {
        "id": "nGOYJqb4hTxF"
      }
    },
    {
      "cell_type": "markdown",
      "source": [
        "##### 2. What is/are the insight(s) found from the chart?"
      ],
      "metadata": {
        "id": "GwzvFGzlYuh3"
      }
    },
    {
      "cell_type": "markdown",
      "source": [
        "Above insight shows that August and July most busy months in compare to others."
      ],
      "metadata": {
        "id": "AWFXGor_hbE-"
      }
    },
    {
      "cell_type": "markdown",
      "source": [
        "##### 3. Will the gained insights help creating a positive business impact?\n",
        "Are there any insights that lead to negative growth? Justify with specific reason."
      ],
      "metadata": {
        "id": "qYpmQ266Yuh3"
      }
    },
    {
      "cell_type": "markdown",
      "source": [
        "There is negative insight but hotel can use this insight to arrange everything in advance and welcome their guest in best way possible and hotel can also run some promotional offer in these 2 months to attract more guests"
      ],
      "metadata": {
        "id": "2RVGveyMhgm-"
      }
    },
    {
      "cell_type": "markdown",
      "source": [
        "#### Chart - 6"
      ],
      "metadata": {
        "id": "OH-pJp9IphqM"
      }
    },
    {
      "cell_type": "markdown",
      "source": [
        " From which country most guests come?"
      ],
      "metadata": {
        "id": "I0fpmya6hlFA"
      }
    },
    {
      "cell_type": "code",
      "source": [
        "# Chart - 6 visualization code\n",
        "import matplotlib.pyplot as plt  # Importing Matplotlib library for visualization\n",
        "\n",
        "# Extracting the top 18 countries by guest count\n",
        "country_df = pf['country'].value_counts()[:18]\n",
        "\n",
        "# Setting up the figure size for the plot\n",
        "plt.figure(figsize=(20, 8))\n",
        "\n",
        "# Creating the bar plot\n",
        "plt.bar(x=country_df.index, height=country_df.values)  # Using index as x-axis (country names) and values as y-axis (guest count)\n",
        "\n",
        "# Adding title and labels to the plot\n",
        "plt.title('Number of Guests from Each Country', fontsize=22)\n",
        "plt.xlabel('Country')\n",
        "plt.ylabel('Guest Count')\n",
        "\n",
        "# Rotating x-axis labels for better readability\n",
        "plt.xticks(rotation=90)\n",
        "\n",
        "# Displaying the plot\n",
        "plt.show()"
      ],
      "metadata": {
        "id": "kuRf4wtuphqN"
      },
      "execution_count": null,
      "outputs": []
    },
    {
      "cell_type": "markdown",
      "source": [
        "##### 1. Why did you pick the specific chart?"
      ],
      "metadata": {
        "id": "bbFf2-_FphqN"
      }
    },
    {
      "cell_type": "markdown",
      "source": [
        "Here I compared different values that's used bar chart."
      ],
      "metadata": {
        "id": "RgFuDghIhzxI"
      }
    },
    {
      "cell_type": "markdown",
      "source": [
        "##### 2. What is/are the insight(s) found from the chart?"
      ],
      "metadata": {
        "id": "_ouA3fa0phqN"
      }
    },
    {
      "cell_type": "markdown",
      "source": [
        "From the above chart it is clear that room type A is assigned to guests."
      ],
      "metadata": {
        "id": "NMgqi1xsh4Fn"
      }
    },
    {
      "cell_type": "markdown",
      "source": [
        "##### 3. Will the gained insights help creating a positive business impact?\n",
        "Are there any insights that lead to negative growth? Justify with specific reason."
      ],
      "metadata": {
        "id": "Seke61FWphqN"
      }
    },
    {
      "cell_type": "markdown",
      "source": [
        "In the 8th chart we saw that around 85,000 guests preffered room type A but 75,000 people were assigned A room type . This could be a reason to cancel the bookings. Hotel could increase A type room to decrease cancellation."
      ],
      "metadata": {
        "id": "KQ5hMW5JiB6R"
      }
    },
    {
      "cell_type": "markdown",
      "source": [
        "#### Chart - 7"
      ],
      "metadata": {
        "id": "PIIx-8_IphqN"
      }
    },
    {
      "cell_type": "code",
      "source": [
        "# Chart - 7 visualization code\n",
        "import matplotlib.pyplot as plt\n",
        "rep_guests = pf['is_repeated_guest'].value_counts()\n",
        "exp=(0.00,0.09)\n",
        "plt.pie( rep_guests,exp,autopct='%1.2f%%',shadow=False)\n",
        "plt.title('percentage of repeated guests', fontsize=20)\n",
        "plt.axis('equal')\n",
        "plt.show()"
      ],
      "metadata": {
        "id": "lqAIGUfyphqO"
      },
      "execution_count": null,
      "outputs": []
    },
    {
      "cell_type": "markdown",
      "source": [
        "##### 1. Why did you pick the specific chart?"
      ],
      "metadata": {
        "id": "t27r6nlMphqO"
      }
    },
    {
      "cell_type": "markdown",
      "source": [
        "A pie chart helps organize and show data as a percentage of a whole."
      ],
      "metadata": {
        "id": "02WAB49OsQJa"
      }
    },
    {
      "cell_type": "markdown",
      "source": [
        "##### 2. What is/are the insight(s) found from the chart?"
      ],
      "metadata": {
        "id": "r2jJGEOYphqO"
      }
    },
    {
      "cell_type": "markdown",
      "source": [
        "From the above insight we can see that 16.45% guests are repeated guests."
      ],
      "metadata": {
        "id": "3H3D8928sdYb"
      }
    },
    {
      "cell_type": "markdown",
      "source": [
        "##### 3. Will the gained insights help creating a positive business impact?\n",
        "Are there any insights that lead to negative growth? Justify with specific reason."
      ],
      "metadata": {
        "id": "b0JNsNcRphqO"
      }
    },
    {
      "cell_type": "markdown",
      "source": [
        "We can see that number of repeated guests is very low and it shows negative groth of the hotel . Hotel can offer loyality discount to their guests to increase repeated guests."
      ],
      "metadata": {
        "id": "eIBg7uGHslRq"
      }
    },
    {
      "cell_type": "markdown",
      "source": [
        "#### Chart - 8"
      ],
      "metadata": {
        "id": "BZR9WyysphqO"
      }
    },
    {
      "cell_type": "markdown",
      "source": [
        "Which customer type has most booking?"
      ],
      "metadata": {
        "id": "s9OoVYw3s2-M"
      }
    },
    {
      "cell_type": "code",
      "source": [
        "# Chart - 8 visualization code\n",
        "cust_type = pf['customer_type'].value_counts()\n",
        "cust_type.plot(figsize=(20,8))\n",
        "plt.xlabel('count', fontsize= 10)\n",
        "plt.ylabel('customer type',fontsize = 12)\n",
        "plt.title('customer type and their booking count', fontsize = 28)\n",
        "plt.show()"
      ],
      "metadata": {
        "id": "TdPTWpAVphqO"
      },
      "execution_count": null,
      "outputs": []
    },
    {
      "cell_type": "markdown",
      "source": [
        "##### 1. Why did you pick the specific chart?"
      ],
      "metadata": {
        "id": "jj7wYXLtphqO"
      }
    },
    {
      "cell_type": "markdown",
      "source": [
        "Line graphs are used to track changes over differnt categories."
      ],
      "metadata": {
        "id": "kcacgTdqtA89"
      }
    },
    {
      "cell_type": "markdown",
      "source": [
        "##### 2. What is/are the insight(s) found from the chart?"
      ],
      "metadata": {
        "id": "eZrbJ2SmphqO"
      }
    },
    {
      "cell_type": "markdown",
      "source": [
        "We can see that transient customer type has most number of booking."
      ],
      "metadata": {
        "id": "ixYHUaPrvy8o"
      }
    },
    {
      "cell_type": "markdown",
      "source": [
        "##### 3. Will the gained insights help creating a positive business impact?\n",
        "Are there any insights that lead to negative growth? Justify with specific reason."
      ],
      "metadata": {
        "id": "rFu4xreNphqO"
      }
    },
    {
      "cell_type": "markdown",
      "source": [
        "Hotel can run promotional offers to increase the number of bookings over categories. such as hotel offer discounts for groups."
      ],
      "metadata": {
        "id": "9P9NhTvxv5wD"
      }
    },
    {
      "cell_type": "markdown",
      "source": [
        "#### Chart - 9"
      ],
      "metadata": {
        "id": "YJ55k-q6phqO"
      }
    },
    {
      "cell_type": "markdown",
      "source": [
        "Which market segment has most booking?"
      ],
      "metadata": {
        "id": "7TsykM2VwAn5"
      }
    },
    {
      "cell_type": "code",
      "source": [
        "# Chart - 9 visualization code\n",
        "plt.figure(figsize = (20,8))\n",
        "sns.countplot(x=pf['market_segment'],order = pf['market_segment'].value_counts().index)\n",
        "plt.title('market segment share in booking', fontsize= 30)\n",
        "plt.show()"
      ],
      "metadata": {
        "id": "B2aS4O1ophqO"
      },
      "execution_count": null,
      "outputs": []
    },
    {
      "cell_type": "markdown",
      "source": [
        "##### 1. Why did you pick the specific chart?"
      ],
      "metadata": {
        "id": "gCFgpxoyphqP"
      }
    },
    {
      "cell_type": "markdown",
      "source": [
        "A bar plot shows catergorical data as rectangular bars with the height of bars proportional to the value they represent."
      ],
      "metadata": {
        "id": "GsWLYZ5LwLxx"
      }
    },
    {
      "cell_type": "markdown",
      "source": [
        "##### 2. What is/are the insight(s) found from the chart?"
      ],
      "metadata": {
        "id": "OVtJsKN_phqQ"
      }
    },
    {
      "cell_type": "markdown",
      "source": [
        "Above insight shows that online TA(Travel Agent) has most bookings?"
      ],
      "metadata": {
        "id": "mf-rRNAowRBT"
      }
    },
    {
      "cell_type": "markdown",
      "source": [
        "##### 3. Will the gained insights help creating a positive business impact?\n",
        "Are there any insights that lead to negative growth? Justify with specific reason."
      ],
      "metadata": {
        "id": "lssrdh5qphqQ"
      }
    },
    {
      "cell_type": "markdown",
      "source": [
        "There is no negative growth. Hotel should come up with great idea to increase share other market segment to increase the revenue."
      ],
      "metadata": {
        "id": "fQyj7ywUwWnZ"
      }
    },
    {
      "cell_type": "markdown",
      "source": [
        "#### Chart - 10"
      ],
      "metadata": {
        "id": "U2RJ9gkRphqQ"
      }
    },
    {
      "cell_type": "markdown",
      "source": [
        "deposite type is most preffered"
      ],
      "metadata": {
        "id": "g3WLST-6wcEs"
      }
    },
    {
      "cell_type": "code",
      "source": [
        "# Chart - 10 visualization code\n",
        "cust_type = pf['customer_type'].value_counts()\n",
        "cust_type.plot(figsize=(20,8))\n",
        "plt.xlabel('count', fontsize= 10)\n",
        "plt.ylabel('customer type',fontsize = 12)\n",
        "plt.title('customer type and their booking count', fontsize = 20)\n",
        "plt.show()"
      ],
      "metadata": {
        "id": "GM7a4YP4phqQ"
      },
      "execution_count": null,
      "outputs": []
    },
    {
      "cell_type": "markdown",
      "source": [
        "##### 1. Why did you pick the specific chart?"
      ],
      "metadata": {
        "id": "1M8mcRywphqQ"
      }
    },
    {
      "cell_type": "markdown",
      "source": [
        "Line graphs are used to track changes over differnt categories."
      ],
      "metadata": {
        "id": "VCZ8KriewmFS"
      }
    },
    {
      "cell_type": "markdown",
      "source": [
        "##### 2. What is/are the insight(s) found from the chart?"
      ],
      "metadata": {
        "id": "tgIPom80phqQ"
      }
    },
    {
      "cell_type": "markdown",
      "source": [
        "We can see that transient customer type has most number of booking."
      ],
      "metadata": {
        "id": "XKCX2TZgwqlz"
      }
    },
    {
      "cell_type": "markdown",
      "source": [
        "##### 3. Will the gained insights help creating a positive business impact?\n",
        "Are there any insights that lead to negative growth? Justify with specific reason."
      ],
      "metadata": {
        "id": "JMzcOPDDphqR"
      }
    },
    {
      "cell_type": "markdown",
      "source": [
        "Hotel can run promotional offers to increase the number of bookings over categories. such as hotel offer discounts for groups."
      ],
      "metadata": {
        "id": "p_rtM_PJw0I9"
      }
    },
    {
      "cell_type": "markdown",
      "source": [
        "#### Chart - 11"
      ],
      "metadata": {
        "id": "x-EpHcCOp1ci"
      }
    },
    {
      "cell_type": "code",
      "source": [
        "# Chart - 11 visualization code\n",
        "plt.figure(figsize = (20,8))\n",
        "sns.countplot(x=pf['market_segment'],order = pf['market_segment'].value_counts().index)\n",
        "plt.title('market segment share in booking', fontsize= 28)\n",
        "plt.show()"
      ],
      "metadata": {
        "id": "mAQTIvtqp1cj"
      },
      "execution_count": null,
      "outputs": []
    },
    {
      "cell_type": "markdown",
      "source": [
        "##### 1. Why did you pick the specific chart?"
      ],
      "metadata": {
        "id": "X_VqEhTip1ck"
      }
    },
    {
      "cell_type": "markdown",
      "source": [
        "A bar plot shows catergorical data as rectangular bars with the height of bars proportional to the value they represent."
      ],
      "metadata": {
        "id": "9N2AnR7MxG8k"
      }
    },
    {
      "cell_type": "markdown",
      "source": [
        "##### 2. What is/are the insight(s) found from the chart?"
      ],
      "metadata": {
        "id": "8zGJKyg5p1ck"
      }
    },
    {
      "cell_type": "markdown",
      "source": [
        "Above insight shows that online TA(Travel Agent) has most bookings?"
      ],
      "metadata": {
        "id": "xLhEAsEUxM89"
      }
    },
    {
      "cell_type": "markdown",
      "source": [
        "##### 3. Will the gained insights help creating a positive business impact?\n",
        "Are there any insights that lead to negative growth? Justify with specific reason."
      ],
      "metadata": {
        "id": "PVzmfK_Ep1ck"
      }
    },
    {
      "cell_type": "markdown",
      "source": [
        "There is no negative growth. Hotel should come up with great idea to increase share other market segment to increase the revenue."
      ],
      "metadata": {
        "id": "WcpZIueuxSi6"
      }
    },
    {
      "cell_type": "markdown",
      "source": [
        "#### Chart - 12"
      ],
      "metadata": {
        "id": "n3dbpmDWp1ck"
      }
    },
    {
      "cell_type": "markdown",
      "source": [
        "deposite type is most preffered"
      ],
      "metadata": {
        "id": "iS0Py0HWxX4d"
      }
    },
    {
      "cell_type": "code",
      "source": [
        "# Chart - 12 visualization code\n",
        "deposite = pf['deposit_type'].value_counts().index\n",
        "plt.figure(figsize = (10,5))\n",
        "sns.countplot(x=pf['deposit_type'], order= deposite)\n",
        "plt.title('most used deposit type')\n",
        "plt.show()"
      ],
      "metadata": {
        "id": "bwevp1tKp1ck"
      },
      "execution_count": null,
      "outputs": []
    },
    {
      "cell_type": "markdown",
      "source": [
        "##### 1. Why did you pick the specific chart?"
      ],
      "metadata": {
        "id": "ylSl6qgtp1ck"
      }
    },
    {
      "cell_type": "markdown",
      "source": [
        "A bar plot shows catergorical data as rectangular bars with the height of bars proportional to the value they represent."
      ],
      "metadata": {
        "id": "Egv6JXCJxiTu"
      }
    },
    {
      "cell_type": "markdown",
      "source": [
        "##### 2. What is/are the insight(s) found from the chart?"
      ],
      "metadata": {
        "id": "ZWILFDl5p1ck"
      }
    },
    {
      "cell_type": "markdown",
      "source": [
        "Above insight shows that most used deposit type by count?"
      ],
      "metadata": {
        "id": "jz9h5dFPxs7t"
      }
    },
    {
      "cell_type": "markdown",
      "source": [
        "#### Chart - 13"
      ],
      "metadata": {
        "id": "Ag9LCva-p1cl"
      }
    },
    {
      "cell_type": "markdown",
      "source": [
        " Which hotel makes most revenue?"
      ],
      "metadata": {
        "id": "UZ6RkuMxx3Qv"
      }
    },
    {
      "cell_type": "code",
      "source": [
        "# Chart - 13 visualization code\n",
        "most_rev = pf.groupby('hotel')['adr'].count()\n",
        "most_rev.plot.pie(autopct = '%1.2f%%',figsize = (15,8))\n",
        "plt.title('percentage of daily revenue by each hotel type', fontsize=14)\n",
        "plt.axis('equal')\n",
        "plt.show()"
      ],
      "metadata": {
        "id": "EUfxeq9-p1cl"
      },
      "execution_count": null,
      "outputs": []
    },
    {
      "cell_type": "markdown",
      "source": [
        "##### 1. Why did you pick the specific chart?"
      ],
      "metadata": {
        "id": "E6MkPsBcp1cl"
      }
    },
    {
      "cell_type": "markdown",
      "source": [
        "A pie chart has percentage of daily revenue by each hotel type."
      ],
      "metadata": {
        "id": "75-gIfDaydM5"
      }
    },
    {
      "cell_type": "markdown",
      "source": [
        "##### 2. What is/are the insight(s) found from the chart?"
      ],
      "metadata": {
        "id": "2cELzS2fp1cl"
      }
    },
    {
      "cell_type": "markdown",
      "source": [
        "From the above insight it is clear that City hotel has more share in revenue generation over Homewood suits by hilton Hotel."
      ],
      "metadata": {
        "id": "08PHLkD0yimx"
      }
    },
    {
      "cell_type": "markdown",
      "source": [
        "##### 3. Will the gained insights help creating a positive business impact?\n",
        "Are there any insights that lead to negative growth? Justify with specific reason."
      ],
      "metadata": {
        "id": "3MPXvC8up1cl"
      }
    },
    {
      "cell_type": "markdown",
      "source": [
        "Stakeholders could improve the service of Homewood suites by Hilton Hotel so that people stay more in Homewood suites by Hilton Hotel and increase the revenue."
      ],
      "metadata": {
        "id": "h0mO1K4DyoLP"
      }
    },
    {
      "cell_type": "markdown",
      "source": [
        "#### Chart - 14 - Correlation Heatmap"
      ],
      "metadata": {
        "id": "NC_X3p0fY2L0"
      }
    },
    {
      "cell_type": "code",
      "source": [
        "# Correlation Heatmap visualization code\n",
        "plt.figure(figsize=(20,20))\n",
        "sns.heatmap(pf.corr(numeric_only=True), annot=True)\n",
        "plt.title('correlation of the columns', fontsize = 18)\n",
        "plt.show()"
      ],
      "metadata": {
        "id": "xyC9zolEZNRQ"
      },
      "execution_count": null,
      "outputs": []
    },
    {
      "cell_type": "markdown",
      "source": [
        "##### 1. Why did you pick the specific chart?"
      ],
      "metadata": {
        "id": "UV0SzAkaZNRQ"
      }
    },
    {
      "cell_type": "markdown",
      "source": [
        "Correlation heatmaps was used to find potential relationships between variables and to understand the strength of these relationships."
      ],
      "metadata": {
        "id": "NZ3mkn9by5RP"
      }
    },
    {
      "cell_type": "markdown",
      "source": [
        "##### 2. What is/are the insight(s) found from the chart?"
      ],
      "metadata": {
        "id": "YPEH6qLeZNRQ"
      }
    },
    {
      "cell_type": "markdown",
      "source": [
        "lead_time and total_stay is positivily corelated. That means if customers stay more than the lead relationship.\n",
        "adult, childers and babies are correlated to each other . That means more than people more will be adr."
      ],
      "metadata": {
        "id": "wF1j2t4XzABA"
      }
    },
    {
      "cell_type": "markdown",
      "source": [
        "#### Chart - 15 - Pair Plot"
      ],
      "metadata": {
        "id": "q29F0dvdveiT"
      }
    },
    {
      "cell_type": "code",
      "source": [
        "# Pair Plot visualization code\n",
        "import seaborn as sns\n",
        "import matplotlib.pyplot as plt\n",
        "\n",
        "# Assuming pf is your DataFrame containing hotel booking data\n",
        "\n",
        "# Create a pairplot\n",
        "sns.pairplot(pf)\n",
        "plt.show()"
      ],
      "metadata": {
        "id": "o58-TEIhveiU"
      },
      "execution_count": null,
      "outputs": []
    }
  ]
}